{
 "cells": [
  {
   "cell_type": "markdown",
   "metadata": {},
   "source": [
    "# Quiz capitulo 4 Oscar Guerra López"
   ]
  },
  {
   "cell_type": "markdown",
   "metadata": {},
   "source": [
    "## Ejercicio 2 "
   ]
  },
  {
   "cell_type": "code",
   "execution_count": 24,
   "metadata": {},
   "outputs": [
    {
     "name": "stdout",
     "output_type": "stream",
     "text": [
      "Probabilidad de tener dos hijos varones en este caso 0.375\n",
      "Media de tener dos hijos varones en este caso 1.5\n",
      "Varianza de tener dos hijos varones en este caso 0.75\n"
     ]
    }
   ],
   "source": [
    "import math\n",
    "hijos=3\n",
    "p=.5\n",
    "varones=2\n",
    "probavaron= math.comb(hijos,varones)*(p ** varones)*((1-p)**(hijos-varones))\n",
    "med= hijos*p\n",
    "vari= med*(1-p)\n",
    "print(\"Probabilidad de tener dos hijos varones en este caso\", probavaron)\n",
    "print(\"Media de tener dos hijos varones en este caso\", med)\n",
    "print(\"Varianza de tener dos hijos varones en este caso\", vari)\n"
   ]
  },
  {
   "cell_type": "markdown",
   "metadata": {},
   "source": [
    "## Ejercicio 5"
   ]
  },
  {
   "cell_type": "code",
   "execution_count": 25,
   "metadata": {},
   "outputs": [
    {
     "name": "stdout",
     "output_type": "stream",
     "text": [
      "el intervalo de confianza es:  1.0735362127101256\n",
      "el  mayor es:  81.07353621271012\n",
      "el  menor es:  78.92646378728988\n"
     ]
    }
   ],
   "source": [
    "import math\n",
    "muestra=30\n",
    "var=9\n",
    "media=80\n",
    "s=math.sqrt(var)\n",
    "rmuestra=math.sqrt(muestra)\n",
    "intervalomas=media+1.96*(s/rmuestra)\n",
    "intervalomenos=media-1.96*(s/rmuestra)\n",
    "intervaloconf=1.96*(s/rmuestra)\n",
    "print(\"el intervalo de confianza es: \", intervaloconf)\n",
    "print(\"el  mayor es: \", intervalomas)\n",
    "print(\"el  menor es: \", intervalomenos)\n"
   ]
  },
  {
   "cell_type": "markdown",
   "metadata": {},
   "source": [
    "## Ejercicio 6"
   ]
  },
  {
   "cell_type": "code",
   "execution_count": 26,
   "metadata": {},
   "outputs": [
    {
     "name": "stdout",
     "output_type": "stream",
     "text": [
      "La característica más correlacionada con la variable objetivo es:  worst concave points\n"
     ]
    }
   ],
   "source": [
    "import numpy as np\n",
    "import pandas as pd\n",
    "from sklearn.datasets import load_breast_cancer\n",
    "\n",
    "# Importar datos\n",
    "data = load_breast_cancer()\n",
    "\n",
    "# Crear DataFrame\n",
    "df = pd.DataFrame(data.data, columns=data.feature_names)\n",
    "df = df.assign(target=pd.Series(1 - data.target))\n",
    "correlacion = df.corr()[\"target\"].drop(\"target\") \n",
    "caracteristica = correlacion.abs().idxmax()  \n",
    "print(\"La característica más correlacionada con la variable objetivo es: \", caracteristica)\n",
    "\n"
   ]
  }
 ],
 "metadata": {
  "kernelspec": {
   "display_name": "Python 3",
   "language": "python",
   "name": "python3"
  },
  "language_info": {
   "codemirror_mode": {
    "name": "ipython",
    "version": 3
   },
   "file_extension": ".py",
   "mimetype": "text/x-python",
   "name": "python",
   "nbconvert_exporter": "python",
   "pygments_lexer": "ipython3",
   "version": "3.12.2"
  }
 },
 "nbformat": 4,
 "nbformat_minor": 2
}
